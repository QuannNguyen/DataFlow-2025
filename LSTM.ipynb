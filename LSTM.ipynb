{
 "cells": [
  {
   "cell_type": "code",
   "execution_count": null,
   "metadata": {},
   "outputs": [
    {
     "name": "stderr",
     "output_type": "stream",
     "text": [
      "C:\\Users\\Laptop K1\\AppData\\Local\\Temp\\ipykernel_12944\\4163287513.py:25: FutureWarning: A value is trying to be set on a copy of a DataFrame or Series through chained assignment using an inplace method.\n",
      "The behavior will change in pandas 3.0. This inplace method will never work because the intermediate object on which we are setting values always behaves as a copy.\n",
      "\n",
      "For example, when doing 'df[col].method(value, inplace=True)', try using 'df.method({col: value}, inplace=True)' or df[col] = df[col].method(value) instead, to perform the operation inplace on the original object.\n",
      "\n",
      "\n",
      "  test_df[\"Revenue\"].fillna(test_df[\"Revenue\"].mean(), inplace=True)\n",
      "C:\\Users\\Laptop K1\\AppData\\Roaming\\Python\\Python312\\site-packages\\keras\\src\\layers\\rnn\\rnn.py:200: UserWarning: Do not pass an `input_shape`/`input_dim` argument to a layer. When using Sequential models, prefer using an `Input(shape)` object as the first layer in the model instead.\n",
      "  super().__init__(**kwargs)\n"
     ]
    },
    {
     "name": "stdout",
     "output_type": "stream",
     "text": [
      "Epoch 1/10\n",
      "\u001b[1m12679/12679\u001b[0m \u001b[32m━━━━━━━━━━━━━━━━━━━━\u001b[0m\u001b[37m\u001b[0m \u001b[1m29s\u001b[0m 2ms/step - loss: 3.5984e-05 - val_loss: 3.2300e-06\n",
      "Epoch 2/10\n",
      "\u001b[1m12679/12679\u001b[0m \u001b[32m━━━━━━━━━━━━━━━━━━━━\u001b[0m\u001b[37m\u001b[0m \u001b[1m24s\u001b[0m 2ms/step - loss: 2.1135e-05 - val_loss: 4.8289e-06\n",
      "Epoch 3/10\n",
      "\u001b[1m12679/12679\u001b[0m \u001b[32m━━━━━━━━━━━━━━━━━━━━\u001b[0m\u001b[37m\u001b[0m \u001b[1m27s\u001b[0m 2ms/step - loss: 2.0211e-05 - val_loss: 3.5358e-06\n",
      "Epoch 4/10\n",
      "\u001b[1m12679/12679\u001b[0m \u001b[32m━━━━━━━━━━━━━━━━━━━━\u001b[0m\u001b[37m\u001b[0m \u001b[1m44s\u001b[0m 3ms/step - loss: 2.0764e-05 - val_loss: 3.9749e-06\n",
      "Epoch 5/10\n",
      "\u001b[1m12679/12679\u001b[0m \u001b[32m━━━━━━━━━━━━━━━━━━━━\u001b[0m\u001b[37m\u001b[0m \u001b[1m65s\u001b[0m 2ms/step - loss: 2.0555e-05 - val_loss: 3.6433e-06\n",
      "Epoch 6/10\n",
      "\u001b[1m12679/12679\u001b[0m \u001b[32m━━━━━━━━━━━━━━━━━━━━\u001b[0m\u001b[37m\u001b[0m \u001b[1m23s\u001b[0m 2ms/step - loss: 2.0448e-05 - val_loss: 3.5437e-06\n",
      "Epoch 7/10\n",
      "\u001b[1m12679/12679\u001b[0m \u001b[32m━━━━━━━━━━━━━━━━━━━━\u001b[0m\u001b[37m\u001b[0m \u001b[1m30s\u001b[0m 2ms/step - loss: 2.0196e-05 - val_loss: 5.2246e-06\n",
      "Epoch 8/10\n",
      "\u001b[1m12679/12679\u001b[0m \u001b[32m━━━━━━━━━━━━━━━━━━━━\u001b[0m\u001b[37m\u001b[0m \u001b[1m47s\u001b[0m 4ms/step - loss: 2.0090e-05 - val_loss: 3.3384e-06\n",
      "Epoch 9/10\n",
      "\u001b[1m12679/12679\u001b[0m \u001b[32m━━━━━━━━━━━━━━━━━━━━\u001b[0m\u001b[37m\u001b[0m \u001b[1m58s\u001b[0m 5ms/step - loss: 1.9875e-05 - val_loss: 4.2947e-06\n",
      "Epoch 10/10\n",
      "\u001b[1m12679/12679\u001b[0m \u001b[32m━━━━━━━━━━━━━━━━━━━━\u001b[0m\u001b[37m\u001b[0m \u001b[1m51s\u001b[0m 4ms/step - loss: 2.0303e-05 - val_loss: 3.5182e-06\n",
      "\u001b[1m2334/2334\u001b[0m \u001b[32m━━━━━━━━━━━━━━━━━━━━\u001b[0m\u001b[37m\u001b[0m \u001b[1m5s\u001b[0m 2ms/step\n",
      "R² Score: -217333068265.7259\n",
      "RMSE: 8214.6150\n",
      "MAPE: 340459.12%\n"
     ]
    }
   ],
   "source": [
    "import numpy as np\n",
    "import pandas as pd\n",
    "import tensorflow as tf\n",
    "from tensorflow.keras.models import Sequential\n",
    "from tensorflow.keras.layers import LSTM, Dense, Dropout\n",
    "from sklearn.preprocessing import MinMaxScaler\n",
    "from sklearn.metrics import mean_squared_error, r2_score, mean_absolute_percentage_error\n",
    "\n",
    "# Đọc dữ liệu từ các tệp CSV\n",
    "train_path = \"C:\\\\Users\\\\Laptop K1\\\\Downloads\\\\train.csv\"\n",
    "test_path = \"C:\\\\Users\\\\Laptop K1\\\\Downloads\\\\test.csv\"\n",
    "\n",
    "train_df = pd.read_csv(train_path)\n",
    "test_df = pd.read_csv(test_path)\n",
    "\n",
    "# Chuyển đổi cột 'Date' thành số ngày kể từ ngày nhỏ nhất\n",
    "train_df[\"Date\"] = pd.to_datetime(train_df[\"Date\"])\n",
    "test_df[\"Date\"] = pd.to_datetime(test_df[\"Date\"])\n",
    "\n",
    "min_date = train_df[\"Date\"].min()\n",
    "train_df[\"Date\"] = (train_df[\"Date\"] - min_date).dt.days\n",
    "test_df[\"Date\"] = (test_df[\"Date\"] - min_date).dt.days\n",
    "\n",
    "# Xử lý giá trị thiếu trong 'Revenue' của test_df bằng giá trị trung bình\n",
    "test_df[\"Revenue\"].fillna(test_df[\"Revenue\"].mean(), inplace=True)\n",
    "\n",
    "# Chuẩn hóa dữ liệu (bỏ cột 'ProductID' và 'Zip' nếu có)\n",
    "scaler = MinMaxScaler()\n",
    "train_scaled = scaler.fit_transform(train_df.drop(columns=[\"ProductID\", \"Zip\"], errors='ignore'))\n",
    "test_scaled = scaler.transform(test_df.drop(columns=[\"ProductID\", \"Zip\"], errors='ignore'))\n",
    "\n",
    "# Chia dữ liệu thành đầu vào (X) và đầu ra (y)\n",
    "X_train, y_train = train_scaled[:, :-1], train_scaled[:, -1]  # Dự đoán Revenue\n",
    "X_test, y_true = test_scaled[:, :-1], test_scaled[:, -1]  \n",
    "\n",
    "# Định dạng lại dữ liệu để phù hợp với LSTM (samples, time steps, features)\n",
    "X_train = np.reshape(X_train, (X_train.shape[0], 1, X_train.shape[1]))\n",
    "X_test = np.reshape(X_test, (X_test.shape[0], 1, X_test.shape[1]))\n",
    "\n",
    "# Xây dựng mô hình LSTM\n",
    "model_lstm = Sequential([\n",
    "    LSTM(50, return_sequences=True, input_shape=(X_train.shape[1], X_train.shape[2])),\n",
    "    Dropout(0.2),\n",
    "    LSTM(50, return_sequences=False),\n",
    "    Dropout(0.2),\n",
    "    Dense(25, activation=\"relu\"),\n",
    "    Dense(1)\n",
    "])\n",
    "\n",
    "# Biên dịch mô hình\n",
    "model_lstm.compile(optimizer=\"adam\", loss=\"mean_squared_error\")\n",
    "\n",
    "# Huấn luyện mô hình\n",
    "history = model_lstm.fit(X_train, y_train, epochs=10, batch_size=64, validation_split=0.1, verbose=1)\n",
    "\n",
    "# Dự đoán trên tập kiểm tra\n",
    "y_pred_lstm = model_lstm.predict(X_test)\n",
    "\n",
    "# Chuyển đổi dự đoán về giá trị gốc\n",
    "y_pred_lstm_original = scaler.inverse_transform(np.concatenate((X_test[:, 0, :], y_pred_lstm), axis=1))[:, -1]\n",
    "\n",
    "# Tính các chỉ số đánh giá mô hình\n",
    "rmse = np.sqrt(mean_squared_error(y_true, y_pred_lstm_original))\n",
    "r2 = r2_score(y_true, y_pred_lstm_original)\n",
    "mape = mean_absolute_percentage_error(y_true, y_pred_lstm_original)\n",
    "\n",
    "print(f\"R² Score: {r2:.4f}\")\n",
    "print(f\"RMSE: {rmse:.4f}\")               \n",
    "print(f\"MAPE: {mape:.2f}%\")\n"
   ]
  },
  {
   "cell_type": "code",
   "execution_count": null,
   "metadata": {},
   "outputs": [],
   "source": []
  },
  {
   "cell_type": "code",
   "execution_count": null,
   "metadata": {},
   "outputs": [],
   "source": []
  },
  {
   "cell_type": "code",
   "execution_count": null,
   "metadata": {},
   "outputs": [],
   "source": []
  }
 ],
 "metadata": {
  "kernelspec": {
   "display_name": "Python 3",
   "language": "python",
   "name": "python3"
  },
  "language_info": {
   "codemirror_mode": {
    "name": "ipython",
    "version": 3
   },
   "file_extension": ".py",
   "mimetype": "text/x-python",
   "name": "python",
   "nbconvert_exporter": "python",
   "pygments_lexer": "ipython3",
   "version": "3.12.6"
  }
 },
 "nbformat": 4,
 "nbformat_minor": 2
}
